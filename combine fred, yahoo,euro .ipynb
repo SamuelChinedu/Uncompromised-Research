{
 "cells": [
  {
   "cell_type": "code",
   "execution_count": 1,
   "id": "336599fe-0cae-4510-b264-584e19107e38",
   "metadata": {},
   "outputs": [],
   "source": [
    "#import library\n",
    "import os\n",
    "import requests\n",
    "import pandas as pd\n",
    "import time\n",
    "import datetime\n",
    "import pandas as pd\n",
    "import eurostat\n",
    "import yfinance as yf"
   ]
  },
  {
   "cell_type": "code",
   "execution_count": 2,
   "id": "57c050be",
   "metadata": {},
   "outputs": [
    {
     "name": "stdout",
     "output_type": "stream",
     "text": [
      "   realtime_start realtime_end        date     value\n",
      "0      2024-03-30   2024-03-30  2021-01-01  14.01823\n",
      "1      2024-03-30   2024-03-30  2021-04-01  20.70939\n",
      "2      2024-03-30   2024-03-30  2021-07-01   8.64871\n",
      "3      2024-03-30   2024-03-30  2021-10-01  11.06989\n",
      "4      2024-03-30   2024-03-30  2022-01-01   7.68746\n",
      "5      2024-03-30   2024-03-30  2022-04-01   9.34041\n",
      "6      2024-03-30   2024-03-30  2022-07-01   6.32559\n",
      "7      2024-03-30   2024-03-30  2022-10-01   5.37218\n",
      "8      2024-03-30   2024-03-30  2023-01-01   8.10489\n",
      "9      2024-03-30   2024-03-30  2023-04-01   3.31210\n",
      "10     2024-03-30   2024-03-30  2023-07-01   5.77835\n",
      "11     2024-03-30   2024-03-30  2023-10-01   5.12802\n",
      "12     2024-03-30   2024-03-30  2024-01-01         .\n"
     ]
    }
   ],
   "source": [
    "# fred api \n",
    "#api_key = fred_key\n",
    "api_key = 'your api key' # where you input your Api key \n",
    "\n",
    "# Define the FRED API endpoint\n",
    "base_url = 'https://api.stlouisfed.org/fred/'\n",
    "\n",
    "'''\n",
    "Get observation data from the FRED API\n",
    "'''\n",
    "\n",
    "# Assign endpoint\n",
    "obs_endpoint = 'series/observations'\n",
    "\n",
    "# Assign parameters\n",
    "series_id = 'PCE' # for the series_id\n",
    "start_date = '2021-01-01' # for the start date \n",
    "end_date = '2024-03-21'   # for the end date \n",
    "ts_frequency = 'q'    # for the frequency \n",
    "ts_units = 'pca'       # to get the unit of the data \n",
    "\n",
    "obs_params = {\n",
    "    'series_id': series_id,\n",
    "    'api_key': api_key,\n",
    "    'file_type': 'json',\n",
    "    'observation_start': start_date,\n",
    "    'observation_end': end_date,\n",
    "    'frequency': ts_frequency,\n",
    "    'units': ts_units\n",
    "}\n",
    "\n",
    "# Make request to FRED API\n",
    "response = requests.get(base_url + obs_endpoint, params=obs_params)\n",
    "data = response.json()['observations']\n",
    "df = pd.DataFrame(data)\n",
    "\n",
    "print(df)\n",
    "#to save to csv file or any other file \n",
    "df.to_csv('fred.csv', index=False)\n"
   ]
  },
  {
   "cell_type": "code",
   "execution_count": 41,
   "id": "4ed0cfe1",
   "metadata": {},
   "outputs": [
    {
     "name": "stdout",
     "output_type": "stream",
     "text": [
      "          Date        Open        High         Low       Close   Adj Close  \\\n",
      "0   2020-12-01  133.520004  145.089996  118.389999  121.260002  119.003754   \n",
      "1   2021-03-01  123.750000  137.070007  116.209999  124.610001  122.474159   \n",
      "2   2021-06-01  125.080002  153.490005  123.129997  151.830002  149.481094   \n",
      "3   2021-09-01  152.830002  165.699997  138.270004  165.300003  162.986496   \n",
      "4   2021-12-01  167.479996  182.940002  152.000000  165.119995  163.046646   \n",
      "5   2022-03-01  164.699997  179.610001  132.610001  148.839996  147.158310   \n",
      "6   2022-06-01  149.899994  176.149994  129.039993  157.220001  155.672028   \n",
      "7   2022-09-01  156.639999  164.259995  134.369995  148.029999  146.776108   \n",
      "8   2022-12-01  148.210007  157.380005  124.169998  147.410004  146.403809   \n",
      "9   2023-03-01  146.830002  179.350006  143.899994  177.250000  176.308914   \n",
      "10  2023-06-01  177.699997  198.229996  171.960007  187.869995  187.130997   \n",
      "11  2023-09-01  189.490005  192.929993  165.669998  189.949997  189.458313   \n",
      "12  2023-12-01  190.330002  199.619995  179.250000  180.750000  180.519653   \n",
      "13  2024-03-01  179.550003  180.529999  168.490005  169.710007  169.710007   \n",
      "14  2024-03-27  170.419998  172.440002  170.110001  172.392502  172.392502   \n",
      "\n",
      "        Volume  \n",
      "0   4074117600  \n",
      "1   6252210600  \n",
      "2   4987167900  \n",
      "3   5053943300  \n",
      "4   6180729000  \n",
      "5   6269636000  \n",
      "6   4706464800  \n",
      "7   5677710200  \n",
      "8   4426582600  \n",
      "9   3765131800  \n",
      "10  3615606900  \n",
      "11  3609892300  \n",
      "12  3411621100  \n",
      "13  1306763900  \n",
      "14     7601383  \n"
     ]
    }
   ],
   "source": [
    "#yahoo finance \n",
    "ticker = 'AAPL' # where to set the ticker\n",
    "interval = '3mo'  # where to set the frequency of the data \n",
    "\n",
    "# Set start and end dates\n",
    "start_date = datetime.datetime(2021, 1, 1)\n",
    "end_date = datetime.datetime(2024, 12, 31)\n",
    "\n",
    "# Convert dates to Unix timestamps\n",
    "period1 = int(time.mktime(start_date.timetuple()))\n",
    "period2 = int(time.mktime(end_date.timetuple()))\n",
    "\n",
    "# Construct the query URL with the specified interval, start date, and end date\n",
    "query_string = f'https://query1.finance.yahoo.com/v7/finance/download/{ticker}?interval={interval}&period1={period1}&period2={period2}'\n",
    "\n",
    "# Read the data from Yahoo Finance\n",
    "yahoo_data = pd.read_csv(query_string)\n",
    "\n",
    "# Save the DataFrame to a CSV file\n",
    "yahoo_data.to_csv('yahoo_data.csv', index=False)\n",
    "\n",
    "# Print the DataFrame\n",
    "print(yahoo_data)\n"
   ]
  },
  {
   "cell_type": "code",
   "execution_count": 5,
   "id": "dd6c70da",
   "metadata": {},
   "outputs": [
    {
     "name": "stdout",
     "output_type": "stream",
     "text": [
      "  freq na_item s_adj         unit geo\\TIME_PERIOD   2021-Q1   2021-Q2  \\\n",
      "0    Q    B1GQ   SCA  MIO_EUR_SCA              AT   95383.4   99733.9   \n",
      "1    Q    B1GQ   SCA  MIO_EUR_SCA              BE  121808.0  125008.0   \n",
      "2    Q    B1GQ   SCA  MIO_EUR_SCA              BG   16792.3   17153.9   \n",
      "3    Q    B1GQ   SCA  MIO_EUR_SCA              CH  163812.1  168367.3   \n",
      "4    Q    B1GQ   SCA  MIO_EUR_SCA              CY    5978.3    6083.4   \n",
      "\n",
      "    2021-Q3   2021-Q4   2022-Q1   2022-Q2   2022-Q3   2022-Q4   2023-Q1  \\\n",
      "0  104884.8  105111.6  107591.1  111215.2  113459.9  114903.5  119306.4   \n",
      "1  128952.0  132161.0  134767.0  137640.0  139953.0  141685.0  144744.0   \n",
      "2   18153.1   18742.9   19772.3   20827.2   21887.6   22970.9   23612.0   \n",
      "3  174507.0  180175.1  185313.6  190515.1  201990.8  200685.3  199985.9   \n",
      "4    6327.8    6538.1    6719.9    6862.0    7085.6    7109.7    7313.0   \n",
      "\n",
      "    2023-Q2   2023-Q3   2023-Q4  percent_change 2021-Q1  \n",
      "0  118650.4  119329.7  120234.7                     NaN  \n",
      "1  144627.0  146549.0  147212.0               27.703563  \n",
      "2   23021.6   23277.7   24106.0              -86.214124  \n",
      "3  202432.5  206927.7  209284.7              875.519137  \n",
      "4    7319.2    7532.8    7592.1              -96.350514  \n"
     ]
    }
   ],
   "source": [
    "# For Eurostat \n",
    "# Retrieve data for dataset 'teina010'\n",
    "euro_stat = eurostat.get_data_df('teina010')\n",
    "# to solve for percentage change of a column \n",
    "euro_stat['percent_change 2021-Q1'] = euro_stat['2021-Q1'].pct_change(periods=1) * 100\n",
    "# Save the DataFrame to a CSV file\n",
    "euro_stat.to_csv('euro.csv', index=True)  # Setting index to True to include the datetime index\n",
    "print(euro_stat.head())\n"
   ]
  },
  {
   "cell_type": "code",
   "execution_count": 3,
   "id": "54126ea6",
   "metadata": {},
   "outputs": [],
   "source": [
    "pd.set_option('display.max_columns', None)  # Show all columns\n",
    "pd.set_option('display.max_rows', None)     # Show all rows\n",
    "\n",
    "# Read CSV files into DataFrames\n",
    "df1 = pd.read_csv('fred.csv')\n",
    "df2 = pd.read_csv('yahoo_data.csv')\n",
    "df3 = pd.read_csv('euro.csv')\n"
   ]
  },
  {
   "cell_type": "code",
   "execution_count": 4,
   "id": "3fc35b9a",
   "metadata": {},
   "outputs": [
    {
     "name": "stdout",
     "output_type": "stream",
     "text": [
      "Shape of df2: (15, 7)\n"
     ]
    }
   ],
   "source": [
    "# get the shape of the data \n",
    "print(\"Shape of df2:\", df2.shape)"
   ]
  },
  {
   "cell_type": "code",
   "execution_count": 6,
   "id": "12b58dfc",
   "metadata": {},
   "outputs": [
    {
     "name": "stdout",
     "output_type": "stream",
     "text": [
      "Columns of DataFrame 1:\n",
      "Index(['realtime_start', 'realtime_end', 'date', 'value'], dtype='object')\n",
      "Columns of DataFrame 2:\n",
      "Index(['Date', 'Open', 'High', 'Low', 'Close', 'Adj Close', 'Volume'], dtype='object')\n",
      "Columns of DataFrame 3:\n",
      "Index(['Unnamed: 0', 'freq', 'na_item', 's_adj', 'unit', 'geo\\TIME_PERIOD',\n",
      "       '2021-Q1', '2021-Q2', '2021-Q3', '2021-Q4', '2022-Q1', '2022-Q2',\n",
      "       '2022-Q3', '2022-Q4', '2023-Q1', '2023-Q2', '2023-Q3', '2023-Q4',\n",
      "       'percent_change 2021-Q1'],\n",
      "      dtype='object')\n"
     ]
    }
   ],
   "source": [
    "# to know the columns of each data frame \n",
    "print(\"Columns of DataFrame 1:\")\n",
    "print(df1.columns)\n",
    "\n",
    "print(\"Columns of DataFrame 2:\")\n",
    "print(df2.columns)\n",
    "\n",
    "print(\"Columns of DataFrame 3:\")\n",
    "print(df3.columns)\n"
   ]
  },
  {
   "cell_type": "code",
   "execution_count": null,
   "id": "d7db6d41",
   "metadata": {},
   "outputs": [],
   "source": []
  }
 ],
 "metadata": {
  "kernelspec": {
   "display_name": "Python 3 (ipykernel)",
   "language": "python",
   "name": "python3"
  },
  "language_info": {
   "codemirror_mode": {
    "name": "ipython",
    "version": 3
   },
   "file_extension": ".py",
   "mimetype": "text/x-python",
   "name": "python",
   "nbconvert_exporter": "python",
   "pygments_lexer": "ipython3",
   "version": "3.9.12"
  }
 },
 "nbformat": 4,
 "nbformat_minor": 5
}
